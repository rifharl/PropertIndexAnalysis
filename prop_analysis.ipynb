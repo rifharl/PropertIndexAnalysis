{
 "cells": [
  {
   "cell_type": "code",
   "execution_count": null,
   "metadata": {},
   "outputs": [],
   "source": [
    "import pandas as pd\n",
    "import numpy as np"
   ]
  },
  {
   "cell_type": "markdown",
   "metadata": {},
   "source": [
    "1. Import Data"
   ]
  },
  {
   "cell_type": "code",
   "execution_count": null,
   "metadata": {},
   "outputs": [],
   "source": [
    "idx_prop = pd.read_excel('prop.xlsx', sheet_name = \"pvt_idx2\")\n",
    "idx_prop"
   ]
  },
  {
   "cell_type": "markdown",
   "metadata": {},
   "source": [
    "2. Clean and Insert Quarter Value"
   ]
  },
  {
   "cell_type": "code",
   "execution_count": null,
   "metadata": {},
   "outputs": [],
   "source": [
    "qrtr = idx_prop.loc[:, 'quarter']"
   ]
  },
  {
   "cell_type": "code",
   "execution_count": null,
   "metadata": {},
   "outputs": [],
   "source": [
    "ind1 = 0\n",
    "ind2 = 1\n",
    "ind3 = 2 \n",
    "ind4 = 3\n",
    "\n",
    "for i in range(0,200):\n",
    "    idx_prop['quarter'] = idx_prop['quarter'].replace([qrtr[i+ind1],qrtr[i+ind2],qrtr[i+ind3], qrtr[i+ind4]],['Q1','Q2','Q3','Q4'])\n",
    "    ind1 += 3\n",
    "    ind2 += 3\n",
    "    ind3 += 3\n",
    "    ind4 += 3\n",
    "\n",
    "idx_prop"
   ]
  },
  {
   "cell_type": "code",
   "execution_count": null,
   "metadata": {},
   "outputs": [],
   "source": [
    "idx_prop.value_counts('quarter')"
   ]
  },
  {
   "cell_type": "markdown",
   "metadata": {},
   "source": [
    "3. Insert Year Column"
   ]
  },
  {
   "cell_type": "code",
   "execution_count": null,
   "metadata": {},
   "outputs": [],
   "source": [
    "Y = []\n",
    "\n",
    "for i in range(0,18):\n",
    "    if i in range(0,4):\n",
    "        Y.append(2018)\n",
    "    elif i in range(4,8):\n",
    "        Y.append(2019)\n",
    "    elif i in range(8,12):\n",
    "        Y.append(2020)\n",
    "    elif i in range(12,16):\n",
    "        Y.append(2021)\n",
    "    else:\n",
    "        Y.append(2022)\n",
    "\n"
   ]
  },
  {
   "cell_type": "code",
   "execution_count": null,
   "metadata": {},
   "outputs": [],
   "source": [
    "Year = Y * 57"
   ]
  },
  {
   "cell_type": "code",
   "execution_count": null,
   "metadata": {},
   "outputs": [],
   "source": [
    "df = idx_prop.insert(7, \"Year\", Year)"
   ]
  },
  {
   "cell_type": "markdown",
   "metadata": {},
   "source": [
    "4. Calculate and Insert Growth (Year on Year) Column"
   ]
  },
  {
   "cell_type": "code",
   "execution_count": null,
   "metadata": {},
   "outputs": [],
   "source": [
    "Growth = []\n",
    "\n",
    "for i in range(0,4):\n",
    "    if i in range(0,1):\n",
    "        Growth.append(204.21)\n",
    "        Growth.append(205.77)\n",
    "        Growth.append(206.62)\n",
    "        Growth.append(207.3)\n",
    "\n",
    "z = idx_prop['price']\n",
    "\n",
    "for i in range(0,1022):\n",
    "    a = z[i+4]-z[i]\n",
    "    b = a / z[i]\n",
    "    c = b*100\n",
    "    Growth.append(c)\n",
    "        \n"
   ]
  },
  {
   "cell_type": "code",
   "execution_count": null,
   "metadata": {},
   "outputs": [],
   "source": [
    "dum = pd.DataFrame(Growth, columns=['Growth(YoY)'])\n",
    "gr = round(dum,2)\n",
    "idx_prop.insert(8,\"Growth(Yoy)\",gr)"
   ]
  },
  {
   "cell_type": "code",
   "execution_count": null,
   "metadata": {},
   "outputs": [],
   "source": [
    "#Growth.clear()"
   ]
  },
  {
   "cell_type": "code",
   "execution_count": null,
   "metadata": {},
   "outputs": [],
   "source": [
    "idx_prop.loc[4, \"Growth(Yoy)\"]\n",
    "g = idx_prop[\"Growth(Yoy)\"]"
   ]
  },
  {
   "cell_type": "markdown",
   "metadata": {},
   "source": [
    "5. Calculate and Insert Growth (Quater on Quarter) Column"
   ]
  },
  {
   "cell_type": "code",
   "execution_count": null,
   "metadata": {},
   "outputs": [],
   "source": [
    "q = [2.20]\n",
    "\n",
    "for i in range(0,1025):\n",
    "    x = z[i+1]-z[i]\n",
    "    y = (x / z[i])*100\n",
    "    q.append(y)\n",
    "\n"
   ]
  },
  {
   "cell_type": "code",
   "execution_count": null,
   "metadata": {},
   "outputs": [],
   "source": [
    "df_q = pd.DataFrame(q, columns=[\"QoQ\"])\n",
    "df_q = round(df_q, 2)\n",
    "idx_prop.insert(8,\"Growth (QTQ)\", df_q)"
   ]
  },
  {
   "cell_type": "code",
   "execution_count": null,
   "metadata": {},
   "outputs": [],
   "source": [
    "idx_prop"
   ]
  },
  {
   "cell_type": "markdown",
   "metadata": {},
   "source": [
    "6. Calculate Growth Average of Quarter to Quarter and Year on Year Group By Year, City and Quarter"
   ]
  },
  {
   "cell_type": "code",
   "execution_count": null,
   "metadata": {},
   "outputs": [],
   "source": [
    "idx_prop.rename(columns = {\"price\":\"Price\"}, inplace=True)\n",
    "idx_prop.rename(columns= {\"quarter\":\"Quarter\"}, inplace=True)\n",
    "idx_prop.rename(columns={\"Growth(Yoy)\":\"Growth (YOY)\"}, inplace=True)\n"
   ]
  },
  {
   "cell_type": "code",
   "execution_count": null,
   "metadata": {},
   "outputs": [],
   "source": [
    "tot = []\n",
    "\n",
    "for i in range(0,990):\n",
    "    a = g[i] + g[i+18] + g[i+36]\n",
    "    b = a/3\n",
    "    tot.append(b)\n"
   ]
  },
  {
   "cell_type": "code",
   "execution_count": null,
   "metadata": {},
   "outputs": [],
   "source": [
    "df_tot = pd.DataFrame(tot, columns=['Average'])\n",
    "avg = round(df_tot, 2)"
   ]
  },
  {
   "cell_type": "code",
   "execution_count": null,
   "metadata": {},
   "outputs": [],
   "source": [
    "# df_mean = idx_prop[\"Growth(Yoy)\"].groupby([idx_prop[\"City\",\"quarter\"]]).mean()\n",
    "df_mean = idx_prop.groupby([\"City\",\"Year\",\"Quarter\"])[[\"Growth (QTQ)\",\"Growth (YOY)\"]].mean()\n",
    "df_mean.rename(columns= {\"Growth (QTQ)\":\"Quarter Average\"}, inplace=True)\n",
    "df_mean.rename(columns= {\"Growth (YOY)\":\"Year Average\"},inplace = True)\n",
    "df_mean[\"Quarter Average\"] = np.round(df_mean[\"Quarter Average\"], decimals= 2)\n",
    "df_mean[\"Year Average\"] = np.round(df_mean[\"Year Average\"], decimals= 2)\n",
    "df_mean"
   ]
  },
  {
   "cell_type": "code",
   "execution_count": null,
   "metadata": {},
   "outputs": [],
   "source": [
    "Quarter_Avg = pd.DataFrame(df_mean.loc[:, \"Quarter Average\"])"
   ]
  },
  {
   "cell_type": "code",
   "execution_count": null,
   "metadata": {},
   "outputs": [],
   "source": [
    "idx_mean = df_mean.reset_index()\n",
    "idx_mean"
   ]
  },
  {
   "cell_type": "markdown",
   "metadata": {},
   "source": [
    "7. Touch Up Data Frame"
   ]
  },
  {
   "cell_type": "code",
   "execution_count": null,
   "metadata": {},
   "outputs": [],
   "source": [
    "df_prop = idx_prop.drop(columns = [\"Tipe\"])\n",
    "df_prop = idx_prop.drop(columns = [\"F23\"])"
   ]
  },
  {
   "cell_type": "code",
   "execution_count": null,
   "metadata": {},
   "outputs": [],
   "source": [
    "df_prop['Price'] = np.round(df_prop['Price'], decimals= 2)"
   ]
  },
  {
   "cell_type": "code",
   "execution_count": null,
   "metadata": {},
   "outputs": [],
   "source": [
    "\n",
    "df_avg = idx_prop.groupby([\"Year\",\"Type\",\"Quarter\"])[[\"Price\"]].mean()\n",
    "df_avg"
   ]
  },
  {
   "cell_type": "code",
   "execution_count": null,
   "metadata": {},
   "outputs": [],
   "source": [
    "df_mean"
   ]
  },
  {
   "cell_type": "code",
   "execution_count": null,
   "metadata": {},
   "outputs": [],
   "source": [
    "df_prop"
   ]
  }
 ],
 "metadata": {
  "interpreter": {
   "hash": "27145056b3ca968e0b0811b82b3d3f376a86e27f213ce1a9061513044ed9c1bf"
  },
  "kernelspec": {
   "display_name": "Python 3.10.4 64-bit",
   "language": "python",
   "name": "python3"
  },
  "language_info": {
   "codemirror_mode": {
    "name": "ipython",
    "version": 3
   },
   "file_extension": ".py",
   "mimetype": "text/x-python",
   "name": "python",
   "nbconvert_exporter": "python",
   "pygments_lexer": "ipython3",
   "version": "3.10.4"
  },
  "orig_nbformat": 4
 },
 "nbformat": 4,
 "nbformat_minor": 2
}
